{
 "cells": [
  {
   "cell_type": "code",
   "execution_count": null,
   "metadata": {
    "scrolled": true
   },
   "outputs": [],
   "source": [
    "import os\n",
    "import pandas as pd\n",
    "import numpy as np"
   ]
  },
  {
   "cell_type": "code",
   "execution_count": null,
   "metadata": {},
   "outputs": [],
   "source": [
    "try:\n",
    "    print(\"Repo path:\", repo_path)\n",
    "except:\n",
    "    os.chdir(\"../\")\n",
    "    repo_path = os.getcwd()\n",
    "    print(\"Repo path:\", repo_path)"
   ]
  },
  {
   "cell_type": "code",
   "execution_count": null,
   "metadata": {
    "scrolled": true
   },
   "outputs": [],
   "source": [
    "data_path = \"data\"\n",
    "use_dir = \"use\"\n",
    "glove_dir = \"glove\"\n",
    "\n",
    "os.chdir(repo_path)"
   ]
  },
  {
   "cell_type": "code",
   "execution_count": null,
   "metadata": {
    "scrolled": true
   },
   "outputs": [],
   "source": [
    "os.listdir(data_path)"
   ]
  },
  {
   "cell_type": "code",
   "execution_count": null,
   "metadata": {
    "scrolled": true
   },
   "outputs": [],
   "source": [
    "df = pd.read_csv(os.path.join(data_path, \"train.csv\"))"
   ]
  },
  {
   "cell_type": "markdown",
   "metadata": {},
   "source": [
    "### Is the dataset balanced?"
   ]
  },
  {
   "cell_type": "code",
   "execution_count": null,
   "metadata": {},
   "outputs": [],
   "source": [
    "label1 = df[\"target\"][df[\"target\"] == 1].count()\n",
    "label0 = df[\"target\"][df[\"target\"] == 0].count()\n",
    "print(\"label 1:\", (label1 /(label1 + label0)))\n",
    "print(\"label 0:\", (label0 /(label1 + label0)))"
   ]
  },
  {
   "cell_type": "code",
   "execution_count": null,
   "metadata": {},
   "outputs": [],
   "source": [
    "import matplotlib.pyplot as plt\n",
    "%matplotlib notebook\n",
    "# Data to plot\n",
    "labels = 'Disastrous', 'Normal'\n",
    "sizes = [429, 571]\n",
    "colors = ['Red', 'green']\n",
    "explode = (0.1, 0)#, 0, 0)  # explode 1st slice\n",
    "\n",
    "# Plot\n",
    "plt.pie(sizes, explode=explode, labels=labels, colors=colors,\n",
    "autopct='%1.1f%%', shadow=True, startangle=140)\n",
    "\n",
    "plt.axis('equal')\n",
    "plt.show()"
   ]
  },
  {
   "cell_type": "code",
   "execution_count": null,
   "metadata": {},
   "outputs": [],
   "source": [
    "df.head(10)"
   ]
  },
  {
   "cell_type": "markdown",
   "metadata": {},
   "source": [
    "## Text data cleanning"
   ]
  },
  {
   "cell_type": "code",
   "execution_count": null,
   "metadata": {},
   "outputs": [],
   "source": [
    "import nltk\n",
    "import re\n",
    "import string\n",
    "\n",
    "ps = nltk.PorterStemmer()\n",
    "\n",
    "def txt_cleanning(text, tokenize=False, stem=False):\n",
    "    \"\"\" cleanning:\n",
    "            lowercase\n",
    "            remove numbers\n",
    "            remove punctuation\n",
    "            stem words\n",
    "    \"\"\"\n",
    "    if not isinstance(text, list):\n",
    "        # workaround in order to be able to re-run it\n",
    "        text  = \"\".join([char.lower() for char in text ])\n",
    "        text = re.sub('[0-9]+', '', text)\n",
    "        text = text.split()\n",
    "        out_text = []\n",
    "        for word in text:\n",
    "            if \"\\\\x\" in word:\n",
    "                continue\n",
    "            if \"http\" in word:\n",
    "                out_text.append(\"http\")\n",
    "                continue\n",
    "            if word == \"ain't\":\n",
    "                out_text += [\"is\", \"not\"]\n",
    "                continue\n",
    "            if word == \"won't\":\n",
    "                out_text += [\"will\", \"not\"]\n",
    "                continue\n",
    "            if word and word[0] in string.punctuation:\n",
    "                word = word[1:]\n",
    "            if word and word[-1] in string.punctuation:\n",
    "                word = word[:-1]\n",
    "            if len(word) > 4 and \"n't\" in word[-3:]:\n",
    "                out_text.append(word[:-3])\n",
    "                out_text.append(\"not\")\n",
    "            elif \"'\" in word:\n",
    "                new_words = word.split(\"'\")\n",
    "                out_text += [new_words[0], \"'\" + new_words[1]]\n",
    "            elif \"-\" in word:\n",
    "                out_text += word.split(\"-\")\n",
    "            elif word:\n",
    "                word = re.sub(\"[^a-z]+\", \"\", word)\n",
    "                out_text  += \"\".join([char if char.isalpha()\n",
    "                                              else \" \" for char in word ]).split()\n",
    "    out_text = [word.strip() for word in out_text if word.strip()]\n",
    "    if stem:\n",
    "        text = [ps.stem(word) for word in out_text]  # remove stopwords and stemming\n",
    "    if not tokenize:\n",
    "        out_text = \" \".join([str(elem) for elem in out_text])\n",
    "    return out_text\n",
    "\n",
    "df['clean_text'] = df['text'].apply(lambda x: txt_cleanning(x))\n"
   ]
  },
  {
   "cell_type": "markdown",
   "metadata": {},
   "source": [
    "### Train/Test Split"
   ]
  },
  {
   "cell_type": "code",
   "execution_count": null,
   "metadata": {
    "scrolled": true
   },
   "outputs": [],
   "source": [
    "from sklearn.model_selection import train_test_split"
   ]
  },
  {
   "cell_type": "code",
   "execution_count": null,
   "metadata": {
    "scrolled": true
   },
   "outputs": [],
   "source": [
    "X_df, y_df = df[\"text\"], df[\"target\"]\n",
    "# X_df, y_df = df[\"clean_text\"], df[\"target\"]"
   ]
  },
  {
   "cell_type": "code",
   "execution_count": null,
   "metadata": {
    "scrolled": true
   },
   "outputs": [],
   "source": [
    "ind=None\n",
    "X_train, X_test, y_train, y_test = train_test_split(X_df[:ind], y_df[:ind], test_size=0.20, random_state=3)"
   ]
  },
  {
   "cell_type": "code",
   "execution_count": null,
   "metadata": {
    "scrolled": true
   },
   "outputs": [],
   "source": [
    "print(\"train:\", X_train.shape)\n",
    "print(\"test:\", X_test.shape)"
   ]
  },
  {
   "cell_type": "code",
   "execution_count": null,
   "metadata": {},
   "outputs": [],
   "source": [
    "label1 = y_train[y_train==1].count()\n",
    "label0 = y_train[y_train==0].count()\n",
    "print(\"label 1:\", (label1 /(label1 + label0)))\n",
    "print(\"label 0:\", (label0 /(label1 + label0)))"
   ]
  },
  {
   "cell_type": "code",
   "execution_count": null,
   "metadata": {},
   "outputs": [],
   "source": [
    "label1 = y_test[y_test==1].count()\n",
    "label0 = y_test[y_test==0].count()\n",
    "print(\"label 1:\", (label1 /(label1 + label0)))\n",
    "print(\"label 0:\", (label0 /(label1 + label0)))"
   ]
  },
  {
   "cell_type": "markdown",
   "metadata": {},
   "source": [
    "### USE"
   ]
  },
  {
   "cell_type": "code",
   "execution_count": null,
   "metadata": {},
   "outputs": [],
   "source": [
    "import tensorflow_hub as hub\n",
    "import tensorflow as tf\n",
    "from tqdm import tqdm\n",
    "\n",
    "try:\n",
    "    print(\"USE module:\\n\", use_module)\n",
    "except:\n",
    "    use_module = hub.load(use_dir)\n",
    "    print(\"USE module:\\n\", use_module)"
   ]
  },
  {
   "cell_type": "code",
   "execution_count": null,
   "metadata": {},
   "outputs": [],
   "source": [
    "def get_use(text, use_module=use_module):\n",
    "    text = \" \".join(text) if isinstance(text, list) else text\n",
    "    text = [text.strip()]\n",
    "    emb = use_module.signatures[\"response_encoder\"](\n",
    "        input=tf.constant(text),\n",
    "        context=tf.constant(text))[\"outputs\"].numpy()\n",
    "    return emb"
   ]
  },
  {
   "cell_type": "code",
   "execution_count": null,
   "metadata": {},
   "outputs": [],
   "source": [
    "test = \"This is a test\"\n",
    "get_use(test, use_module).squeeze().shape"
   ]
  },
  {
   "cell_type": "code",
   "execution_count": null,
   "metadata": {},
   "outputs": [],
   "source": [
    "X_train_use = []\n",
    "\n",
    "for text in tqdm(X_train):\n",
    "    X_train_use.append(get_use(text, use_module).squeeze())"
   ]
  },
  {
   "cell_type": "code",
   "execution_count": null,
   "metadata": {},
   "outputs": [],
   "source": [
    "X_test_use = []\n",
    "\n",
    "for text in tqdm(X_test):\n",
    "    X_test_use.append(get_use(text, use_module).squeeze())"
   ]
  },
  {
   "cell_type": "markdown",
   "metadata": {},
   "source": [
    "### TF-IDF"
   ]
  },
  {
   "cell_type": "code",
   "execution_count": null,
   "metadata": {
    "scrolled": true
   },
   "outputs": [],
   "source": [
    "# Create the vectorizer method\n",
    "from sklearn.feature_extraction.text import TfidfVectorizer\n",
    "\n",
    "tfidf_vec = TfidfVectorizer(min_df=3, max_df=0.8, stop_words=\"english\")"
   ]
  },
  {
   "cell_type": "code",
   "execution_count": null,
   "metadata": {},
   "outputs": [],
   "source": [
    "tfidf_vec.fit(X_train)"
   ]
  },
  {
   "cell_type": "code",
   "execution_count": null,
   "metadata": {
    "scrolled": true
   },
   "outputs": [],
   "source": [
    "X_train_tfidf = tfidf_vec.transform(X_train).toarray()\n",
    "X_test_tfidf = tfidf_vec.transform(X_test).toarray()"
   ]
  },
  {
   "cell_type": "code",
   "execution_count": null,
   "metadata": {
    "scrolled": true
   },
   "outputs": [],
   "source": [
    "X_train_tfidf.shape"
   ]
  },
  {
   "cell_type": "markdown",
   "metadata": {},
   "source": [
    "## GloVe"
   ]
  },
  {
   "cell_type": "code",
   "execution_count": null,
   "metadata": {},
   "outputs": [],
   "source": [
    "%%time\n",
    "glove_voc = []\n",
    "glove_weights = []\n",
    "glove_dimensions = 25\n",
    "glove_file = os.path.join(glove_dir, \"glove.twitter.27B.{}d.txt\".format(glove_dimensions))\n",
    "with open(glove_file, 'r') as f:\n",
    "    for line in f:\n",
    "        values = line.split()\n",
    "        if len(values[1:]) == glove_dimensions:\n",
    "            glove_voc.append(values[0])\n",
    "            glove_weights.append(values[1:])\n",
    "print(\"GloVe embeddings imported.\\nVector size: \")\n",
    "print(len(glove_weights[-1]))\n",
    "print()"
   ]
  },
  {
   "cell_type": "code",
   "execution_count": null,
   "metadata": {},
   "outputs": [],
   "source": [
    "%%time\n",
    "glove_weights = np.asarray(glove_weights, \"float32\")"
   ]
  },
  {
   "cell_type": "code",
   "execution_count": null,
   "metadata": {},
   "outputs": [],
   "source": [
    "(glove_voc_length, glove_weights_length) = glove_weights.shape"
   ]
  },
  {
   "cell_type": "markdown",
   "metadata": {},
   "source": [
    "## Naive Bayes classifier"
   ]
  },
  {
   "cell_type": "code",
   "execution_count": null,
   "metadata": {
    "scrolled": false
   },
   "outputs": [],
   "source": [
    "X_train_input = X_train_use\n",
    "# X_train_input = X_train_tfidf\n",
    "X_test_input = X_test_use\n",
    "# X_test_input = X_test_tfidf"
   ]
  },
  {
   "cell_type": "code",
   "execution_count": null,
   "metadata": {
    "scrolled": true
   },
   "outputs": [],
   "source": [
    "from sklearn.naive_bayes import GaussianNB\n",
    "\n",
    "nb = GaussianNB()\n",
    "nb.fit(X_train_input, y_train)"
   ]
  },
  {
   "cell_type": "code",
   "execution_count": null,
   "metadata": {
    "scrolled": true
   },
   "outputs": [],
   "source": [
    "# Print out the model's accuracy\n",
    "nb.score(X_test_input, y_test)"
   ]
  },
  {
   "cell_type": "markdown",
   "metadata": {},
   "source": [
    "## Encode words"
   ]
  },
  {
   "cell_type": "markdown",
   "metadata": {},
   "source": [
    "### Vocabulary to integer"
   ]
  },
  {
   "cell_type": "code",
   "execution_count": null,
   "metadata": {},
   "outputs": [],
   "source": [
    "import string\n",
    "\n",
    "class Vocabulary():\n",
    "    def __init__(self):\n",
    "        self.PAD = 0\n",
    "        self.index2word = {self.PAD: \"PAD\"}\n",
    "        self.word2index = {\"PAD\": self.PAD}\n",
    "        self.size = 1\n",
    "        self.oov = {}\n",
    "        \n",
    "    \n",
    "    def add_word(self, word):\n",
    "        if word not in self.word2index:\n",
    "            self.word2index[word] = self.size\n",
    "            self.index2word[self.size] = word \n",
    "            self.size += 1\n",
    "        return self.size-1\n",
    "    \n",
    "    def add_list(self, voc_list):\n",
    "        if not isinstance(voc_list, list):\n",
    "            voc_list = voc_list.split()\n",
    "        for word in voc_list:\n",
    "            self.add_word(word)\n",
    "        return \"1\"\n",
    "\n",
    "    def get_word(self, index):\n",
    "        try:\n",
    "            return self.index2word[index]\n",
    "        except:\n",
    "            return \"Error: INDEX TOO BIG\"\n",
    "\n",
    "    def get_index(self, word):\n",
    "        try:\n",
    "            return self.word2index[word]\n",
    "        except:\n",
    "            if word not in self.oov:\n",
    "                self.oov[word] = 1\n",
    "            else:\n",
    "                self.oov[word] += 1\n",
    "            return -1\n",
    "    def res_oov(self):\n",
    "        self.oov = {}\n",
    "        return \"1\""
   ]
  },
  {
   "cell_type": "code",
   "execution_count": null,
   "metadata": {
    "scrolled": true
   },
   "outputs": [],
   "source": [
    "my_vocabulary = Vocabulary()\n",
    "my_vocabulary.add_list(glove_voc)"
   ]
  },
  {
   "cell_type": "code",
   "execution_count": null,
   "metadata": {},
   "outputs": [],
   "source": [
    "my_vocabulary.get_index(\"?\")"
   ]
  },
  {
   "cell_type": "code",
   "execution_count": null,
   "metadata": {},
   "outputs": [],
   "source": [
    "glove_voc[14]"
   ]
  },
  {
   "cell_type": "code",
   "execution_count": null,
   "metadata": {},
   "outputs": [],
   "source": [
    "import torch\n",
    "import torch.nn as nn\n",
    "import torch.nn.functional as F\n",
    "from torch.autograd import Variable\n",
    "from torch.utils.data import DataLoader, TensorDataset\n",
    "from torch.optim.lr_scheduler import ReduceLROnPlateau\n",
    "\n",
    "torch.manual_seed(0)"
   ]
  },
  {
   "cell_type": "code",
   "execution_count": null,
   "metadata": {},
   "outputs": [],
   "source": [
    "embeddings = nn.Embedding(glove_voc_length+1, glove_weights_length, padding_idx=0)\n",
    "embeddings.weight = nn.Parameter(torch.cat([torch.zeros(1, glove_dimensions), torch.tensor(glove_weights)], dim=0))\n",
    "embeddings.weight.requires_grad = False"
   ]
  },
  {
   "cell_type": "code",
   "execution_count": null,
   "metadata": {},
   "outputs": [],
   "source": [
    "inpt = torch.LongTensor([[glove_voc_length]])\n",
    "embeddings(inpt) == torch.tensor(glove_weights[glove_voc_length-1])"
   ]
  },
  {
   "cell_type": "markdown",
   "metadata": {},
   "source": [
    "### DataLoaders"
   ]
  },
  {
   "cell_type": "code",
   "execution_count": null,
   "metadata": {},
   "outputs": [],
   "source": [
    "def sentence_to_index(lst, sentence_length, vocabulary):\n",
    "    lst = lst if isinstance(lst, list) else lst.split()\n",
    "    ret = [vocabulary.get_index(word.lower()) for word in lst]\n",
    "    if len(ret) < sentence_length:\n",
    "        ret += [0 for i in range(sentence_length - len(ret))]\n",
    "    else:\n",
    "        ret = ret[:sentence_length]\n",
    "    return ret"
   ]
  },
  {
   "cell_type": "code",
   "execution_count": null,
   "metadata": {},
   "outputs": [],
   "source": [
    "my_vocabulary.res_oov()\n",
    "X = df[\"clean_text\"].apply(lambda x: sentence_to_index(x, 15, my_vocabulary))\n",
    "X"
   ]
  },
  {
   "cell_type": "code",
   "execution_count": null,
   "metadata": {},
   "outputs": [],
   "source": [
    "my_vocabulary.oov"
   ]
  },
  {
   "cell_type": "code",
   "execution_count": null,
   "metadata": {},
   "outputs": [],
   "source": [
    "def create_dataloader(X, y, vocabulary, batch_size=64, sentence_length=15):\n",
    "    X = np.vstack(X.apply(lambda x: sentence_to_index(x, sentence_length, vocabulary)))\n",
    "    dataset = TensorDataset(torch.from_numpy(X), torch.from_numpy(y.values))\n",
    "    dataloader = DataLoader(dataset, shuffle=True, batch_size=batch_size)\n",
    "    return dataloader"
   ]
  },
  {
   "cell_type": "code",
   "execution_count": null,
   "metadata": {},
   "outputs": [],
   "source": [
    "train_dataloader = create_dataloader(X_train, y_train, my_vocabulary, batch_size=batch_size)\n",
    "test_dataloader = create_dataloader(X_test, y_test, my_vocabulary, batch_size=batch_size)"
   ]
  },
  {
   "cell_type": "markdown",
   "metadata": {},
   "source": [
    "### top OOV words "
   ]
  },
  {
   "cell_type": "code",
   "execution_count": null,
   "metadata": {
    "scrolled": true
   },
   "outputs": [],
   "source": [
    "my_vocabulary.res_oov\n",
    "df[\"text\"].apply(lambda x: sentence_to_index(x, 15, my_vocabulary))\n",
    "\n",
    "x = my_vocabulary.oov\n",
    "x = {k: v for k, v in sorted(x.items(), key=lambda item: item[1], reverse=True)}\n",
    "\n",
    "total = 0\n",
    "for i,j in x.items():\n",
    "    total += j\n",
    "print(total)\n",
    "sting = \"\"\n",
    "t = 0\n",
    "for word,count in x.items():\n",
    "    if t == 100:\n",
    "        break\n",
    "    for i in range(count):\n",
    "        sting += word + \" \"\n",
    "    t += 1\n",
    "list(x.keys())[:100]"
   ]
  },
  {
   "cell_type": "code",
   "execution_count": null,
   "metadata": {
    "scrolled": true
   },
   "outputs": [],
   "source": [
    "import matplotlib.pyplot as plt\n",
    "from pylab import rcParams\n",
    "%matplotlib inline\n",
    "\n",
    "rcParams['figure.figsize'] = 13, 11\n",
    "# Make fake dataset\n",
    "height = list(x.values())[:30]\n",
    "bars = list(x.keys())[:30]\n",
    "y_pos = np.arange(len(bars))\n",
    " \n",
    "# Create horizontal bars\n",
    "plt.barh(y_pos, height)\n",
    " \n",
    "# Create names on the y-axis\n",
    "plt.yticks(y_pos, bars, fontsize=20)\n",
    "\n",
    "# Show graphic\n",
    "plt.show()\n",
    " "
   ]
  },
  {
   "cell_type": "markdown",
   "metadata": {},
   "source": [
    "### top Words in cleaned dataset"
   ]
  },
  {
   "cell_type": "code",
   "execution_count": null,
   "metadata": {},
   "outputs": [],
   "source": [
    "from wordcloud import WordCloud, STOPWORDS\n",
    "import matplotlib.pyplot as plt"
   ]
  },
  {
   "cell_type": "code",
   "execution_count": null,
   "metadata": {},
   "outputs": [],
   "source": [
    "from wordcloud import WordCloud, STOPWORDS\n",
    "import matplotlib.pyplot as plt\n",
    "%matplotlib inline\n",
    "\n",
    "\n",
    "def show_wordcloud(data, title = None):\n",
    "    wordcloud = WordCloud(\n",
    "        background_color='white',\n",
    "        max_words=300,\n",
    "        max_font_size=40,\n",
    "        margin=0,\n",
    "        scale=3,\n",
    "        random_state=1 # chosen at random by flipping a coin; it was heads\n",
    "    ).generate(str(data))\n",
    "\n",
    "    fig = plt.figure(1, figsize=(12, 12))\n",
    "    plt.axis('off')\n",
    "    if title: \n",
    "        fig.suptitle(title, fontsize=20)\n",
    "        fig.subplots_adjust(top=2.3)\n",
    "\n",
    "    plt.imshow(wordcloud)\n",
    "    plt.show()\n",
    "\n",
    "show_wordcloud(df[\"clean_text\"])"
   ]
  },
  {
   "cell_type": "markdown",
   "metadata": {},
   "source": [
    "### Submit"
   ]
  },
  {
   "cell_type": "code",
   "execution_count": null,
   "metadata": {},
   "outputs": [],
   "source": [
    "from src.models.tweet import TweetClassifier"
   ]
  },
  {
   "cell_type": "code",
   "execution_count": null,
   "metadata": {},
   "outputs": [],
   "source": [
    "!ls"
   ]
  },
  {
   "cell_type": "code",
   "execution_count": null,
   "metadata": {},
   "outputs": [],
   "source": [
    "lstm_tweet = TweetClassifier(\"lstm\")\n",
    "lstm_tweet.load(\"model_bin/lstm.pt\")"
   ]
  },
  {
   "cell_type": "code",
   "execution_count": null,
   "metadata": {},
   "outputs": [],
   "source": [
    "snn_tweet = TweetClassifier(\"snn\")\n",
    "snn_tweet.load(\"model_bin/snn.pt\")"
   ]
  },
  {
   "cell_type": "markdown",
   "metadata": {},
   "source": [
    "## Submit to Kaggle"
   ]
  },
  {
   "cell_type": "markdown",
   "metadata": {},
   "source": [
    "### Read testing set"
   ]
  },
  {
   "cell_type": "code",
   "execution_count": null,
   "metadata": {},
   "outputs": [],
   "source": [
    "df_test = pd.read_csv(os.path.join(data_path, \"test.csv\"))\n",
    "df_test[\"clean_text\"] = df_test[\"text\"].apply(lambda x: txt_cleanning(x))\n",
    "df_test.head()"
   ]
  },
  {
   "cell_type": "code",
   "execution_count": null,
   "metadata": {},
   "outputs": [],
   "source": [
    "# submit_X = df_test[\"text\"]\n",
    "submit_X = df_test[\"clean_text\"]"
   ]
  },
  {
   "cell_type": "code",
   "execution_count": null,
   "metadata": {},
   "outputs": [],
   "source": [
    "# submit_X_tfidf = tfidf_vec.transform(submit_X).toarray()"
   ]
  },
  {
   "cell_type": "code",
   "execution_count": null,
   "metadata": {},
   "outputs": [],
   "source": [
    "# submit_X_use = []\n",
    "\n",
    "# for text in tqdm(submit_X):\n",
    "#     submit_X_use.append(get_use(text, use_module).squeeze())"
   ]
  },
  {
   "cell_type": "code",
   "execution_count": null,
   "metadata": {},
   "outputs": [],
   "source": [
    "submit_X_inputs = submit_X.values"
   ]
  },
  {
   "cell_type": "code",
   "execution_count": null,
   "metadata": {},
   "outputs": [],
   "source": [
    "# submit_preds = lstm_tweet.predict(submit_X_inputs)"
   ]
  },
  {
   "cell_type": "code",
   "execution_count": null,
   "metadata": {},
   "outputs": [],
   "source": [
    "submit_preds = snn_tweet.predict(submit_X_inputs)"
   ]
  },
  {
   "cell_type": "code",
   "execution_count": null,
   "metadata": {},
   "outputs": [],
   "source": [
    "# submit_preds = nb.predict(submit_X_inputs)"
   ]
  },
  {
   "cell_type": "code",
   "execution_count": null,
   "metadata": {},
   "outputs": [],
   "source": [
    "submit_preds = [int(x) for x in submit_preds]"
   ]
  },
  {
   "cell_type": "code",
   "execution_count": null,
   "metadata": {},
   "outputs": [],
   "source": [
    "to_submit_df = pd.DataFrame(submit_preds, columns=[\"target\"])\n",
    "\n",
    "to_submit_df = pd.concat((df_test[\"id\"], to_submit_df), axis = 1)\n",
    "\n",
    "to_submit_df.to_csv(\"submission.csv\", index=False)"
   ]
  },
  {
   "cell_type": "code",
   "execution_count": null,
   "metadata": {},
   "outputs": [],
   "source": [
    "!kaggle competitions submit -c nlp-getting-started  -f submission.csv -m \"Test\""
   ]
  }
 ],
 "metadata": {
  "celltoolbar": "Raw Cell Format",
  "kernelspec": {
   "display_name": "Python 3",
   "language": "python",
   "name": "python3"
  },
  "language_info": {
   "codemirror_mode": {
    "name": "ipython",
    "version": 3
   },
   "file_extension": ".py",
   "mimetype": "text/x-python",
   "name": "python",
   "nbconvert_exporter": "python",
   "pygments_lexer": "ipython3",
   "version": "3.7.4"
  }
 },
 "nbformat": 4,
 "nbformat_minor": 4
}
